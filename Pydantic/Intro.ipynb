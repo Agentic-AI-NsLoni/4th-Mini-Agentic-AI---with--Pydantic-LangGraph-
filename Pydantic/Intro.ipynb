{
 "cells": [
  {
   "cell_type": "code",
   "execution_count": null,
   "id": "f2ef30c9",
   "metadata": {},
   "outputs": [],
   "source": [
    "from pydantic import BaseModel, Field\n",
    "\n",
    "\n"
   ]
  },
  {
   "cell_type": "code",
   "execution_count": null,
   "id": "a0873f2e",
   "metadata": {},
   "outputs": [
    {
     "name": "stdout",
     "output_type": "stream",
     "text": [
      "name='NS LONI' age=21 city='LONI'\n"
     ]
    }
   ],
   "source": [
    "class Person(BaseModel):\n",
    "    name: str\n",
    "    age: int\n",
    "    city: str\n",
    "    \n",
    "person = Person(name=\"NS LONI\", age=21, city=\"LONI\")\n",
    "\n",
    "print(person)\n"
   ]
  },
  {
   "cell_type": "code",
   "execution_count": 4,
   "id": "62b574b2",
   "metadata": {},
   "outputs": [
    {
     "name": "stdout",
     "output_type": "stream",
     "text": [
      "{\"name\":\"NS LONI\",\"age\":21,\"city\":\"LONI\"}\n"
     ]
    }
   ],
   "source": [
    "print(person.json())    "
   ]
  },
  {
   "cell_type": "code",
   "execution_count": null,
   "metadata": {},
   "outputs": [
    {
     "name": "stdout",
     "output_type": "stream",
     "text": [
      "{\"name\":\"NS LONI\",\"age\":20,\"city\":\"LONI\"}\n"
     ]
    }
   ],
   "source": [
    "person_2 = Person(name=\"NS LONI\", age=20, city=\"LONI\")\n",
    "\n",
    "print(person_2.json())"
   ]
  },
  {
   "cell_type": "code",
   "execution_count": null,
   "id": "2ae17df2",
   "metadata": {},
   "outputs": [],
   "source": [
    "# Error: age must be an integer\n",
    "\n",
    "person_2 = Person(name=\"NS LONI\", age=20.10, city=\"LONI\")\n",
    "\n",
    "print(person_2.json())"
   ]
  },
  {
   "cell_type": "markdown",
   "id": "3b9c4c67",
   "metadata": {},
   "source": [
    "Model with Optional Fields"
   ]
  },
  {
   "cell_type": "code",
   "execution_count": 11,
   "id": "88a221ba",
   "metadata": {},
   "outputs": [],
   "source": [
    "from typing import Optional\n",
    "\n",
    "class Employee(BaseModel):\n",
    "    name: str\n",
    "    age: int\n",
    "    city: str\n",
    "    salary: Optional[float] = None\n",
    "    is_active: Optional[bool] = True\n",
    "    "
   ]
  },
  {
   "cell_type": "code",
   "execution_count": 12,
   "id": "52dd3ba8",
   "metadata": {},
   "outputs": [
    {
     "name": "stdout",
     "output_type": "stream",
     "text": [
      "{\"name\":\"NS LONI\",\"age\":21,\"city\":\"LONI\",\"salary\":null,\"is_active\":true}\n"
     ]
    }
   ],
   "source": [
    "Employee = Employee(name=\"NS LONI\", age=21, city=\"LONI\")\n",
    "\n",
    "print(Employee.json())"
   ]
  },
  {
   "cell_type": "markdown",
   "id": "a3654a4a",
   "metadata": {},
   "source": [
    "Model With LIST"
   ]
  },
  {
   "cell_type": "code",
   "execution_count": 31,
   "id": "bf57b51f",
   "metadata": {},
   "outputs": [],
   "source": [
    "from pydantic import BaseModel, Field\n",
    "from typing import List, Optional\n",
    "\n",
    "class Classroom(BaseModel):\n",
    "    room_number:str\n",
    "    students: list[str]\n",
    "    capacity: int\n",
    "    "
   ]
  },
  {
   "cell_type": "code",
   "execution_count": 32,
   "id": "f7b0f89d",
   "metadata": {},
   "outputs": [],
   "source": [
    "classroom = Classroom(\n",
    "    room_number=\"101\",\n",
    "    students=[\"NS LONI-1\",'\\n' ,\"NS LONI-2\",'\\n', \"NS LONI-3\"],\n",
    "    capacity=30\n",
    ")"
   ]
  },
  {
   "cell_type": "code",
   "execution_count": 34,
   "id": "36aaea54",
   "metadata": {},
   "outputs": [
    {
     "name": "stdout",
     "output_type": "stream",
     "text": [
      "{\"room_number\":\"101\",\"students\":[\"NS LONI-1\",\"\\n\",\"NS LONI-2\",\"\\n\",\"NS LONI-3\"],\"capacity\":30}\n"
     ]
    }
   ],
   "source": [
    "print(classroom.json())"
   ]
  },
  {
   "cell_type": "code",
   "execution_count": 37,
   "metadata": {},
   "outputs": [
    {
     "name": "stdout",
     "output_type": "stream",
     "text": [
      "Error: 1 validation error for Classroom\n",
      "students.1\n",
      "  Input should be a valid string [type=string_type, input_value=120, input_type=int]\n",
      "    For further information visit https://errors.pydantic.dev/2.8/v/string_type\n"
     ]
    }
   ],
   "source": [
    "try:\n",
    "    invalid_classroom = Classroom(room_number=\"101\", students=[\"NS LONI-1\", 120], capacity=20)\n",
    "    \n",
    "except ValueError as e:\n",
    "    print(f\"Error: {e}\")    "
   ]
  },
  {
   "cell_type": "markdown",
   "id": "909103d9",
   "metadata": {},
   "source": [
    "Model with Nested Models"
   ]
  },
  {
   "cell_type": "code",
   "execution_count": 41,
   "id": "6901c8d0",
   "metadata": {},
   "outputs": [
    {
     "name": "stdout",
     "output_type": "stream",
     "text": [
      "{\n",
      "  \"name\": \"NS LONI\",\n",
      "  \"email\": \"saddadaa\",\n",
      "  \"address\": {\n",
      "    \"street\": \"123 Main St\",\n",
      "    \"city\": \"LONI\",\n",
      "    \"state\": \"KA\",\n",
      "    \"zip_code\": \"201102\"\n",
      "  }\n",
      "}\n"
     ]
    }
   ],
   "source": [
    "from pydantic import BaseModel\n",
    "\n",
    "class Address(BaseModel):\n",
    "    street: str\n",
    "    city: str\n",
    "    state: str\n",
    "    zip_code: str\n",
    "\n",
    "class Customer(BaseModel):\n",
    "    name: str\n",
    "    email: str\n",
    "    address: Address    \n",
    "\n",
    "customer = Customer(    \n",
    "    name=\"NS LONI\",\n",
    "    email=\"saddadaa\",\n",
    "    address=Address(\n",
    "        street=\"123 Main St\",\n",
    "        city=\"LONI\",\n",
    "        state=\"KA\",\n",
    "        zip_code=\"201102\"\n",
    "    )\n",
    ")\n",
    "\n",
    "# For Pydantic v2, use model_dump_json\n",
    "print(customer.model_dump_json(indent=2))\n"
   ]
  },
  {
   "cell_type": "markdown",
   "id": "7e2b4cb8",
   "metadata": {},
   "source": [
    "# Fields"
   ]
  },
  {
   "cell_type": "markdown",
   "id": "f2914d87",
   "metadata": {},
   "source": [
    "IMP Check Twice"
   ]
  },
  {
   "cell_type": "code",
   "execution_count": null,
   "id": "7fd51bcc",
   "metadata": {},
   "outputs": [],
   "source": [
    "from pydantic import BaseModel, Field\n",
    "\n",
    "class Item(BaseModel):\n",
    "    name:str = Field(min_length = 2, max_length = 100)\n",
    "    price:float = Field(gt=0, le=10000) # gt = greater than, le = less than or equal to\n",
    "    quantity:int = Field(ge=0) # ge = greater than or equal to\n",
    "    \n",
    "    \n",
    "# Valid instance - 1    \n",
    "\n",
    "item = Item(name=\"NS LONI\", price=100.50, quantity=10)\n",
    "\n",
    "print(item) # name='NS LONI' price=100.5 quantity=10\n",
    "\n",
    "\n",
    "\n",
    "# Valid instance - 2\n",
    "\n",
    "# Error : price must be less than or equal to 10000\n",
    "item = Item(name=\"NS LONI\", price=100100.50, quantity=10)\n",
    "\n",
    "print(item) "
   ]
  },
  {
   "cell_type": "code",
   "execution_count": null,
   "id": "da1c9745",
   "metadata": {},
   "outputs": [],
   "source": []
  },
  {
   "cell_type": "code",
   "execution_count": 45,
   "id": "8ada8fad",
   "metadata": {},
   "outputs": [
    {
     "name": "stdout",
     "output_type": "stream",
     "text": [
      "name='Laptop' price=999.99 quantity=10\n"
     ]
    }
   ],
   "source": [
    "from pydantic import BaseModel, Field\n",
    "\n",
    "class Item(BaseModel):\n",
    "    name: str = Field(..., title=\"Item Name\", description=\"The name of the item\")\n",
    "    price: float = Field(..., gt=0, title=\"Item Price\", description=\"The price of the item\")\n",
    "    quantity: int = Field(..., ge=0, title=\"Item Quantity\", description=\"The quantity of the item in stock\")\n",
    "    \n",
    "item = Item(name=\"Laptop\", price=999.99, quantity=10)    \n",
    "\n",
    "print(item)"
   ]
  },
  {
   "cell_type": "code",
   "execution_count": 48,
   "id": "96e8aa76",
   "metadata": {},
   "outputs": [
    {
     "name": "stdout",
     "output_type": "stream",
     "text": [
      "Ns Loni\n"
     ]
    }
   ],
   "source": [
    "print(\"NS LONI\".title()) # Ns Loni"
   ]
  },
  {
   "cell_type": "code",
   "execution_count": 51,
   "id": "9770cced",
   "metadata": {},
   "outputs": [
    {
     "name": "stdout",
     "output_type": "stream",
     "text": [
      "name='NS LONI' age=21 city='LONI'\n"
     ]
    }
   ],
   "source": [
    "print(person)  "
   ]
  },
  {
   "cell_type": "code",
   "execution_count": 52,
   "id": "ae8248bd",
   "metadata": {},
   "outputs": [
    {
     "name": "stdout",
     "output_type": "stream",
     "text": [
      "THANK YOU FOR YOUR TIME\n"
     ]
    }
   ],
   "source": [
    "print(\"THANK YOU FOR YOUR TIME\") # THANK YOU FOR YOUR TIME"
   ]
  }
 ],
 "metadata": {
  "kernelspec": {
   "display_name": "Python 3",
   "language": "python",
   "name": "python3"
  },
  "language_info": {
   "codemirror_mode": {
    "name": "ipython",
    "version": 3
   },
   "file_extension": ".py",
   "mimetype": "text/x-python",
   "name": "python",
   "nbconvert_exporter": "python",
   "pygments_lexer": "ipython3",
   "version": "3.12.7"
  }
 },
 "nbformat": 4,
 "nbformat_minor": 5
}
